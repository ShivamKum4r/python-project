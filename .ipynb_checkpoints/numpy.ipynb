{
 "cells": [
  {
   "cell_type": "code",
   "execution_count": 2,
   "id": "3809fc39-8499-4a0f-a810-ef57dc36ee50",
   "metadata": {},
   "outputs": [
    {
     "name": "stdout",
     "output_type": "stream",
     "text": [
      "Hello\n"
     ]
    }
   ],
   "source": [
    "print(\"Hello\")"
   ]
  },
  {
   "cell_type": "code",
   "execution_count": 3,
   "id": "f75e1ccb-dbf1-4361-b59c-8e2894d13777",
   "metadata": {},
   "outputs": [
    {
     "name": "stdout",
     "output_type": "stream",
     "text": [
      "[ 1 12  3  4  4]\n",
      "<class 'numpy.ndarray'>\n"
     ]
    }
   ],
   "source": [
    "#creating numpy/n-d arrays\n",
    "\n",
    "import numpy as np\n",
    "\n",
    "arr1=np.array([1,12,3,4,4])\n",
    "print(arr1)\n",
    "#a=type(arr1)\n",
    "print(type(arr1))"
   ]
  },
  {
   "cell_type": "code",
   "execution_count": 4,
   "id": "1c9014e3-a730-45ec-95b6-44773fa6dcde",
   "metadata": {},
   "outputs": [
    {
     "name": "stdout",
     "output_type": "stream",
     "text": [
      "[[1 3 4 8]\n",
      " [2 6 9 7]]\n"
     ]
    }
   ],
   "source": [
    "arr2=np.array([[1,3,4,8],[2,6,9,7]])\n",
    "print(arr2)"
   ]
  },
  {
   "cell_type": "code",
   "execution_count": 5,
   "id": "4f0747a2-2950-4876-a5e3-cc5535781ae1",
   "metadata": {},
   "outputs": [
    {
     "name": "stdout",
     "output_type": "stream",
     "text": [
      "[[0. 0. 0. 0.]\n",
      " [0. 0. 0. 0.]]\n",
      "[[1. 1. 1. 1. 1.]\n",
      " [1. 1. 1. 1. 1.]\n",
      " [1. 1. 1. 1. 1.]\n",
      " [1. 1. 1. 1. 1.]]\n",
      "[[1. 0. 0. 0. 0.]\n",
      " [0. 1. 0. 0. 0.]\n",
      " [0. 0. 1. 0. 0.]\n",
      " [0. 0. 0. 1. 0.]\n",
      " [0. 0. 0. 0. 1.]]\n",
      "[0 1 2 3 4 5 6 7 8 9]\n",
      "[ 5  6  7  8  9 10 11 12 13 14 15]\n",
      "[ 1  5  9 13]\n",
      "[10.         11.11111111 12.22222222 13.33333333 14.44444444 15.55555556\n",
      " 16.66666667 17.77777778 18.88888889 20.        ]\n",
      "[ 1 12  3  4  4]\n",
      "(5,)\n",
      "(2, 4)\n"
     ]
    }
   ],
   "source": []
  },
  {
   "cell_type": "code",
   "execution_count": null,
   "id": "47a5d408-f32a-4dd2-ac83-2d813a040420",
   "metadata": {},
   "outputs": [],
   "source": [
    "arr3=np.zeros((2,4))\n",
    "print(arr3)"
   ]
  },
  {
   "cell_type": "code",
   "execution_count": null,
   "id": "368d8b84-c0a2-4e91-9b71-c76fb986cca0",
   "metadata": {},
   "outputs": [],
   "source": [
    "\n",
    "arr4=np.ones((4,5))\n",
    "print(arr4)\n"
   ]
  },
  {
   "cell_type": "code",
   "execution_count": null,
   "id": "e3021169-9108-4831-8160-4988b422d706",
   "metadata": {},
   "outputs": [],
   "source": [
    "arr5=np.identity(5)\n",
    "print(arr5)"
   ]
  },
  {
   "cell_type": "code",
   "execution_count": null,
   "id": "77e139e6-2dbf-489a-8900-c606c295f8ff",
   "metadata": {},
   "outputs": [],
   "source": [
    "arr6=np.arange(10)\n",
    "print(arr6)"
   ]
  },
  {
   "cell_type": "code",
   "execution_count": null,
   "id": "e6cbc16c-e3ce-493d-a321-a21ec3750917",
   "metadata": {},
   "outputs": [],
   "source": [
    "\n",
    "\n",
    "\n",
    "\n",
    "\n",
    "\n",
    "\n",
    "\n",
    "\n",
    "\n",
    "\n",
    "\n",
    "arr7=np.arange(5,16)\n",
    "print(arr7)\n",
    "\n",
    "arr8=np.arange(1,16,4)\n",
    "print(arr8)\n",
    "\n",
    "arr9=np.linspace(10,20,10)\n",
    "print(arr9)\n",
    "\n",
    "arr10=arr9.copy()\n",
    "print(arr1)\n",
    "\n",
    "#attributes\n",
    "\n",
    "print(arr1.shape)\n",
    "print(arr2.shape)  \n"
   ]
  }
 ],
 "metadata": {
  "kernelspec": {
   "display_name": "Python 3 (ipykernel)",
   "language": "python",
   "name": "python3"
  },
  "language_info": {
   "codemirror_mode": {
    "name": "ipython",
    "version": 3
   },
   "file_extension": ".py",
   "mimetype": "text/x-python",
   "name": "python",
   "nbconvert_exporter": "python",
   "pygments_lexer": "ipython3",
   "version": "3.13.5"
  }
 },
 "nbformat": 4,
 "nbformat_minor": 5
}
